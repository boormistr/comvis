{
 "cells": [
  {
   "cell_type": "raw",
   "id": "4c940a53-0360-42ec-ab26-9278d4b1a879",
   "metadata": {},
   "source": [
    "Обучить модель семантической сегментации (человек-vs-фон) на подмножестве датасета MS COCO\n",
    "Библиотеки: [Python, Tensorflow]"
   ]
  },
  {
   "cell_type": "code",
   "execution_count": null,
   "id": "a6f1c941-28a4-400a-9b89-d5722d7ec414",
   "metadata": {},
   "outputs": [],
   "source": [
    "import os\n",
    "import skimage.io as io\n",
    "import numpy as np\n",
    "\n",
    "import tensorflow as tf"
   ]
  },
  {
   "cell_type": "raw",
   "id": "64b306bf-b2e1-4eeb-8aad-13d1d00a8f1d",
   "metadata": {},
   "source": [
    " !mkdir -p data\n",
    "\n",
    "!cd data && wget http://images.cocodataset.org/zips/train2017.zip \n",
    "!cd data && wget http://images.cocodataset.org/zips/val2017.zip \n",
    "!cd data && wget http://images.cocodataset.org/annotations/annotations_trainval2017.zip \n",
    "\n",
    "!cd data && unzip -q train2017.zip\n",
    "!cd data && unzip -q val2017.zip\n",
    "!cd data && unzip -q annotations_trainval2017.zip"
   ]
  },
  {
   "cell_type": "code",
   "execution_count": 10,
   "id": "03e68497-9a91-4ae4-8fcc-c0d3b9594457",
   "metadata": {},
   "outputs": [
    {
     "name": "stdout",
     "output_type": "stream",
     "text": [
      "fatal: destination path 'cocoapi' already exists and is not an empty directory.\n"
     ]
    }
   ],
   "source": [
    "!cd data && git clone https://github.com/cocodataset/cocoapi"
   ]
  },
  {
   "cell_type": "code",
   "execution_count": 11,
   "id": "008feac5-abea-4eaf-8a29-5d36da1ecf8d",
   "metadata": {
    "jp-MarkdownHeadingCollapsed": true,
    "tags": []
   },
   "outputs": [
    {
     "name": "stdout",
     "output_type": "stream",
     "text": [
      "python setup.py build_ext --inplace\n",
      "make: python: No such file or directory\n",
      "make: *** [Makefile:3: all] Error 127\n"
     ]
    }
   ],
   "source": [
    "!cd data/cocoapi/PythonAPI && make"
   ]
  },
  {
   "cell_type": "code",
   "execution_count": 12,
   "id": "2009bbf3-fe67-4d1c-af69-9d79be470d62",
   "metadata": {},
   "outputs": [
    {
     "name": "stdout",
     "output_type": "stream",
     "text": [
      "fatal: destination path 'cocoapi' already exists and is not an empty directory.\n"
     ]
    }
   ],
   "source": [
    "!git clone https://github.com/cocodataset/cocoapi.git"
   ]
  },
  {
   "cell_type": "code",
   "execution_count": null,
   "id": "bd6f989c-2324-4035-9ff0-3d81b532f975",
   "metadata": {
    "tags": []
   },
   "outputs": [],
   "source": [
    "COCO_ROOT = './data/'\n",
    "import sys\n",
    "sys.path.insert(0, os.path.join(COCO_ROOT, 'cocoapi/PythonAPI'))\n",
    "from pycocotools.coco import COCO"
   ]
  },
  {
   "cell_type": "code",
   "execution_count": 8,
   "id": "c9e6c146-9a2d-4667-aff8-be8ac5afdf7b",
   "metadata": {},
   "outputs": [],
   "source": [
    "class Dataset():\n",
    "\n",
    "    def crop_images(self, img, inp_size, random_crop=False):\n",
    "        shape = tf.shape(img)\n",
    "        pad = (\n",
    "            [0, tf.maximum(inp_size - shape[0], 0)],\n",
    "            [0, tf.maximum(inp_size - shape[1], 0)],\n",
    "            [0, 0],\n",
    "        )\n",
    "        img = tf.pad(img, pad)\n",
    "\n",
    "        if random_crop:\n",
    "            img = tf.image.random_crop(img, (inp_size, inp_size, shape[2]))\n",
    "        else: # central crop\n",
    "            shape = tf.shape(img)\n",
    "            ho = (shape[0] - inp_size) // 2\n",
    "            wo = (shape[1] - inp_size) // 2\n",
    "            img = img[ho:ho+inp_size, wo:wo+inp_size, :]\n",
    "\n",
    "        return img\n",
    "\n",
    "    def train_dataset(self, batch_size, epochs, inp_size):\n",
    "\n",
    "        def item_to_images(item):\n",
    "            random_crop = True\n",
    "            img_combined = tf.py_function(self.read_images, [item], tf.uint8)\n",
    "            img_combined = self.crop_images(img_combined, inp_size, random_crop)\n",
    "\n",
    "            img = tf.cast(img_combined[...,:3], tf.float32) / np.float32(255.)\n",
    "            mask_class = tf.cast(img_combined[...,3:4], tf.float32)\n",
    "            return img, mask_class\n",
    "\n",
    "        dataset = tf.data.Dataset.from_tensor_slices(self.img_list)\n",
    "        dataset = dataset.shuffle(buffer_size=len(self.img_list))\n",
    "        dataset = dataset.map(item_to_images)\n",
    "        dataset = dataset.repeat(epochs)\n",
    "        dataset = dataset.batch(batch_size, drop_remainder=True)\n",
    "\n",
    "        return dataset\n",
    "\n",
    "    def val_dataset(self, batch_size, inp_size):\n",
    "\n",
    "        def item_to_images(item):\n",
    "            random_crop = False\n",
    "            img_combined = tf.py_function(self.read_images, [item], tf.uint8)\n",
    "            img_combined = self.crop_images(img_combined, inp_size, random_crop)\n",
    "\n",
    "            img = tf.cast(img_combined[...,:3], tf.float32) / np.float32(255.)\n",
    "            mask_class = tf.cast(img_combined[...,3:4], tf.float32)\n",
    "            return img, mask_class\n",
    "\n",
    "        dataset = tf.data.Dataset.from_tensor_slices(self.img_list)\n",
    "        dataset = dataset.map(item_to_images)\n",
    "        dataset = dataset.batch(batch_size, drop_remainder=True)\n",
    "\n",
    "        return dataset"
   ]
  },
  {
   "cell_type": "code",
   "execution_count": 9,
   "id": "e9c0b3a8-6d74-49da-8e4d-bcc4d65cc258",
   "metadata": {},
   "outputs": [],
   "source": [
    "class COCO_Dataset(Dataset):\n",
    "\n",
    "    def __init__(self, sublist):\n",
    "        ann_file_fpath = os.path.join(COCO_ROOT, 'annotations', 'instances_'+sublist+'2017.json')\n",
    "        self.coco = COCO(ann_file_fpath)\n",
    "        self.cat_ids = self.coco.getCatIds(catNms=['person'])\n",
    "        self.img_list = self.coco.getImgIds(catIds=self.cat_ids)\n",
    "\n",
    "    def read_images(self, img_id):\n",
    "        img_id = int(img_id.numpy())\n",
    "        img_data = self.coco.loadImgs(img_id)[0]\n",
    "        img_fname = '/'.join(img_data['coco_url'].split('/')[-2:])\n",
    "\n",
    "        img = io.imread(os.path.join(COCO_ROOT, img_fname))\n",
    "        if len(img.shape) == 2:\n",
    "            img = np.tile(img[..., None], (1, 1, 3))\n",
    "\n",
    "        ann_ids = self.coco.getAnnIds(imgIds=img_data['id'], catIds=self.cat_ids, iscrowd=None)\n",
    "        anns = self.coco.loadAnns(ann_ids)\n",
    "        mask_class = np.zeros((img.shape[0], img.shape[1]), dtype=np.uint8)\n",
    "        for i in range(len(anns)):\n",
    "            mask_class += self.coco.annToMask(anns[i])\n",
    "        mask_class = (mask_class > 0).astype(np.uint8)\n",
    "\n",
    "        img_combined = np.concatenate([img, mask_class[..., None]], axis=2)\n",
    "\n",
    "        return img_combined"
   ]
  },
  {
   "cell_type": "code",
   "execution_count": null,
   "id": "c64deb6e-972a-488e-8798-69efcd82ed12",
   "metadata": {},
   "outputs": [],
   "source": [
    "COCO_dataset_train = COCO_Dataset('train')\n",
    "COCO_dataset_val = COCO_Dataset('val')"
   ]
  },
  {
   "cell_type": "code",
   "execution_count": null,
   "id": "64a0dd19-2eb9-499d-8488-3d1e9beacd79",
   "metadata": {},
   "outputs": [],
   "source": [
    "train_ds = COCO_dataset_train.train_dataset(...)\n",
    "val_ds = COCO_dataset_val.val_dataset(...)"
   ]
  },
  {
   "cell_type": "code",
   "execution_count": null,
   "id": "0de57156-c715-4c92-80ad-b3cb89ed0246",
   "metadata": {},
   "outputs": [],
   "source": [
    "class ASPPBlock(tf.keras.Model):\n",
    "    def __init__(self):\n",
    "        super().__init__()\n",
    "        self.conv1 = tf.keras.layers.Conv2D(256, (1, 1), padding='same', activation='relu')\n",
    "        self.conv2 = tf.keras.layers.Conv2D(256, (3, 3), dilation_rate=6, padding='same', activation='relu')\n",
    "        self.conv3 = tf.keras.layers.Conv2D(256, (3, 3), dilation_rate=12, padding='same', activation='relu')\n",
    "        self.conv4 = tf.keras.layers.Conv2D(256, (3, 3), dilation_rate=18, padding='same', activation='relu')\n",
    "        self.conv5 = tf.keras.layers.Conv2D(256, (1, 1), padding='same', activation='relu')\n",
    "\n",
    "    def call(self, inp, is_training=False):\n",
    "        out1 = self.conv1(inp)\n",
    "        out2 = self.conv2(inp)\n",
    "        out3 = self.conv3(inp)\n",
    "        out4 = self.conv4(inp)\n",
    "        out = tf.concat([out1, out2, out3, out4], axis=3)\n",
    "        out = self.conv5(out)\n",
    "        return out\n",
    "    \n",
    "class ASPPNet(tf.keras.Model):\n",
    "    def __init__(self):\n",
    "        super().__init__()\n",
    "        self.conv1 = tf.keras.layers.Conv2D(64, (3, 3), padding='same', activation='relu')\n",
    "        self.conv2 = tf.keras.layers.Conv2D(64, (3, 3), padding='same', activation='relu')\n",
    "        self.conv3 = tf.keras.layers.Conv2D(128, (3, 3), padding='same', activation='relu')\n",
    "        self.conv4 = tf.keras.layers.Conv2D(128, (3, 3), padding='same', activation='relu')\n",
    "        self.conv5 = tf.keras.layers.Conv2D(256, (3, 3), padding='same', activation='relu')\n",
    "        self.conv6 = tf.keras.layers.Conv2D(256, (3, 3), padding='same', activation='relu')\n",
    "        self.conv7 = tf.keras.layers.Conv2D(512, (3, 3), padding='same', activation='relu')\n",
    "        self.conv8 = tf.keras.layers.Conv2D(512, (3, 3), padding='same', activation='relu')\n",
    "        self.conv9 = tf.keras.layers.Conv2D(512, (3, 3), padding='same', activation='relu')\n",
    "        self.conv10 = tf.keras.layers.Conv2D(512, (3, 3), padding='same', activation='relu')\n",
    "\n",
    "        self.conv11 = tf.keras.layers.Conv2D(48, (1, 1), padding='same', activation='relu')\n",
    "        self.conv12 = tf.keras.layers.Conv2D(256, (3, 3), padding='same', activation='relu')\n",
    "        self.conv13 = tf.keras.layers.Conv2D(256, (3, 3), padding='same', activation='relu')\n",
    "        self.conv14 = tf.keras.layers.Conv2D(1, (1, 1), padding='same', activation=None)\n",
    "\n",
    "        self.maxpool = tf.keras.layers.MaxPooling2D((2, 2), (2, 2), padding='same')\n",
    "\n",
    "        self.aspp = ASPPBlock()\n",
    "\n",
    "    def call(self, x):\n",
    "\n",
    "        out = self.conv1(x)\n",
    "        out = self.conv2(out)\n",
    "        out = self.maxpool(out)\n",
    "        out = self.conv3(out)\n",
    "        out = self.conv4(out)\n",
    "        out = self.maxpool(out)\n",
    "        out = self.conv5(out)\n",
    "        out = self.conv6(out)\n",
    "        out_enc_mid = out\n",
    "        out = self.maxpool(out)\n",
    "        out = self.conv7(out)\n",
    "        out = self.conv8(out)\n",
    "        out = self.maxpool(out)\n",
    "        out = self.conv9(out)\n",
    "        out = self.conv10(out)\n",
    "\n",
    "        out = self.aspp(out)\n",
    "\n",
    "        out = tf.image.resize(out, tf.shape(out_enc_mid)[1:3], tf.image.ResizeMethod.BILINEAR)\n",
    "\n",
    "        out_enc_mid = self.conv11(out_enc_mid)\n",
    "\n",
    "        out = tf.concat([out, out_enc_mid], axis=3)\n",
    "\n",
    "        out = self.conv12(out)\n",
    "        out = self.conv13(out)\n",
    "        out = self.conv14(out)\n",
    "\n",
    "        out = tf.image.resize(out, tf.shape(x)[1:3], tf.image.ResizeMethod.BILINEAR)\n",
    "        out = tf.nn.sigmoid(out)\n",
    "        return out\n",
    "    \n",
    "model = ASPPNet()"
   ]
  },
  {
   "cell_type": "code",
   "execution_count": null,
   "id": "dc4311a7-3baa-4878-865c-43fec6810813",
   "metadata": {},
   "outputs": [],
   "source": [
    "tf.keras.utils.plot_model(model, show_shapes=True)"
   ]
  },
  {
   "cell_type": "code",
   "execution_count": null,
   "id": "6d1b4c1d-fcc8-4f26-b4fc-3831fb210777",
   "metadata": {},
   "outputs": [],
   "source": [
    "NUM_EPOCHS = 100\n",
    "BATCH_SIZE = 1\n",
    "\n",
    "loss = tf.keras.losses.BinaryCrossentropy()\n",
    "model.compile(optimizer='adam', loss=loss)\n",
    "\n",
    "hist = model.fit(train_x, train_y, batch_size=BATCH_SIZE, epochs=NUM_EPOCHS)\n",
    "\n",
    "plt.plot(hist.history['loss'])"
   ]
  },
  {
   "cell_type": "code",
   "execution_count": null,
   "id": "822b31e8-2eb5-47b0-83fb-ab0e64d720e5",
   "metadata": {},
   "outputs": [],
   "source": []
  }
 ],
 "metadata": {
  "kernelspec": {
   "display_name": "Python 3 (ipykernel)",
   "language": "python",
   "name": "python3"
  },
  "language_info": {
   "codemirror_mode": {
    "name": "ipython",
    "version": 3
   },
   "file_extension": ".py",
   "mimetype": "text/x-python",
   "name": "python",
   "nbconvert_exporter": "python",
   "pygments_lexer": "ipython3",
   "version": "3.10.6"
  }
 },
 "nbformat": 4,
 "nbformat_minor": 5
}
